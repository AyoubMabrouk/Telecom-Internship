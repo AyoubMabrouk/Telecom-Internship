{
 "cells": [
  {
   "cell_type": "code",
   "execution_count": 1,
   "metadata": {
    "collapsed": true,
    "ExecuteTime": {
     "start_time": "2023-08-24T08:36:18.243605Z",
     "end_time": "2023-08-24T08:36:18.259242Z"
    }
   },
   "outputs": [],
   "source": [
    "#-----------------------------------------------------------------------------------------------------------------------------\n",
    "#----------------------------------------------[ Needed Libraries Import ]----------------------------------------------------\n",
    "#-----------------------------------------------------------------------------------------------------------------------------"
   ]
  },
  {
   "cell_type": "code",
   "execution_count": 2,
   "outputs": [],
   "source": [
    "import pandas as pd\n",
    "import easygui\n",
    "from sklearn.model_selection import train_test_split\n",
    "from sklearn.linear_model import LogisticRegression\n",
    "from sklearn.impute import SimpleImputer\n",
    "from sklearn.metrics import classification_report, confusion_matrix\n"
   ],
   "metadata": {
    "collapsed": false,
    "ExecuteTime": {
     "start_time": "2023-08-24T08:36:18.259242Z",
     "end_time": "2023-08-24T08:36:18.447928Z"
    }
   }
  },
  {
   "cell_type": "code",
   "execution_count": 3,
   "outputs": [],
   "source": [
    "#-----------------------------------------------------------------------------------------------------------------------------\n",
    "#---------------------------------------------------[ Import DataBase ]-------------------------------------------------------\n",
    "#-----------------------------------------------------------------------------------------------------------------------------"
   ],
   "metadata": {
    "collapsed": false,
    "ExecuteTime": {
     "start_time": "2023-08-24T08:36:18.447928Z",
     "end_time": "2023-08-24T08:36:18.463553Z"
    }
   }
  },
  {
   "cell_type": "code",
   "execution_count": 4,
   "outputs": [
    {
     "data": {
      "text/plain": "'S:\\\\TunisieTelecom\\\\ECHANTILLON.xlsx'"
     },
     "execution_count": 4,
     "metadata": {},
     "output_type": "execute_result"
    }
   ],
   "source": [
    "pathDataTelecom=easygui.fileopenbox()\n",
    "pathDataTelecom"
   ],
   "metadata": {
    "collapsed": false,
    "ExecuteTime": {
     "start_time": "2023-08-24T08:36:18.463553Z",
     "end_time": "2023-08-24T08:36:21.134823Z"
    }
   }
  },
  {
   "cell_type": "code",
   "execution_count": 5,
   "outputs": [
    {
     "data": {
      "text/plain": "  STATUT             OFFRE  ANC_M HANDSET  revenu_voix  revenu_inter  \\\n0      A    PRE - TT 1000%    143      2G         8.94           0.0   \n1      A   PRE - 900 bonus    142      2G         6.32           0.0   \n2      A    PRE - TT 1500%    142      2G         3.13           0.0   \n3      A    PRE - offre 40    140      2G         4.55           0.0   \n4      A    PRE - TT 1500%    142      2G         0.00           0.0   \n5      A    PRE - TT 1500%    142      2G        10.59           0.0   \n6      A  PRE - Trankil TT    142      2G         4.51           0.0   \n7      A      PRE - Double    140      2G         5.07           0.0   \n8      A    PRE - TT 1500%    143      2G        12.94           0.1   \n9      A      PRE - Double    141      2G         0.77           0.0   \n\n   NB_JOUR_ACTIVITE_TAXE  NB_JOUR_APPEL_TAXE  DUREE_APPEL_TOT  \\\n0                  14.33               14.33           666.64   \n1                   7.33                7.00            50.09   \n2                   7.67                5.00            42.72   \n3                  17.67               17.67            80.43   \n4                   1.33                0.00             3.10   \n5                   8.67                8.67           203.96   \n6                  20.67               19.33            95.57   \n7                  10.67               10.67            36.22   \n8                  13.33                6.67           905.15   \n9                   6.00                1.00            25.01   \n\n   DUREE_APPEL_TAXEE  ...  FREQ_USSD_VOIX  FREQ_USSD_SMS  VOLUME_SESSION  \\\n0              12.12  ...            1.18          184.0            0.02   \n1               6.49  ...          184.00          184.0            0.00   \n2               3.71  ...          184.00          184.0            0.00   \n3              80.43  ...          184.00          184.0            0.21   \n4               0.00  ...          184.00          184.0            0.00   \n5              12.35  ...          184.00          184.0            0.00   \n6              89.02  ...          184.00          184.0            0.00   \n7              17.39  ...          184.00          184.0          111.62   \n8              16.29  ...          184.00          184.0         1407.94   \n9               3.38  ...          184.00          184.0            0.00   \n\n   VOLUME_SESSION_WEEKEND  REVENU_VAS   ARPU  P_revenu_data  P_revenu_voix_c  \\\n0                    0.01        0.00  33.01           0.00             0.27   \n1                    0.00        0.99   7.31           0.00             0.86   \n2                    0.00        0.00   3.23           0.00             0.97   \n3                    0.00        0.00   4.55           0.00             1.00   \n4                    0.00        0.53   2.03           0.74             0.00   \n5                    0.00        0.00  10.59           0.00             1.00   \n6                    0.00        0.00   4.99           0.00             0.90   \n7                   49.83        0.00   5.85           0.13             0.87   \n8                  330.75       11.17  32.55           0.25             0.40   \n9                    0.00        4.88   5.67           0.00             0.14   \n\n   P_revenu_vas_c  id_client  \n0            0.00        1.0  \n1            0.14        2.0  \n2            0.00        3.0  \n3            0.00        4.0  \n4            0.26        5.0  \n5            0.00        6.0  \n6            0.00        7.0  \n7            0.00        8.0  \n8            0.34        9.0  \n9            0.86       10.0  \n\n[10 rows x 64 columns]",
      "text/html": "<div>\n<style scoped>\n    .dataframe tbody tr th:only-of-type {\n        vertical-align: middle;\n    }\n\n    .dataframe tbody tr th {\n        vertical-align: top;\n    }\n\n    .dataframe thead th {\n        text-align: right;\n    }\n</style>\n<table border=\"1\" class=\"dataframe\">\n  <thead>\n    <tr style=\"text-align: right;\">\n      <th></th>\n      <th>STATUT</th>\n      <th>OFFRE</th>\n      <th>ANC_M</th>\n      <th>HANDSET</th>\n      <th>revenu_voix</th>\n      <th>revenu_inter</th>\n      <th>NB_JOUR_ACTIVITE_TAXE</th>\n      <th>NB_JOUR_APPEL_TAXE</th>\n      <th>DUREE_APPEL_TOT</th>\n      <th>DUREE_APPEL_TAXEE</th>\n      <th>...</th>\n      <th>FREQ_USSD_VOIX</th>\n      <th>FREQ_USSD_SMS</th>\n      <th>VOLUME_SESSION</th>\n      <th>VOLUME_SESSION_WEEKEND</th>\n      <th>REVENU_VAS</th>\n      <th>ARPU</th>\n      <th>P_revenu_data</th>\n      <th>P_revenu_voix_c</th>\n      <th>P_revenu_vas_c</th>\n      <th>id_client</th>\n    </tr>\n  </thead>\n  <tbody>\n    <tr>\n      <th>0</th>\n      <td>A</td>\n      <td>PRE - TT 1000%</td>\n      <td>143</td>\n      <td>2G</td>\n      <td>8.94</td>\n      <td>0.0</td>\n      <td>14.33</td>\n      <td>14.33</td>\n      <td>666.64</td>\n      <td>12.12</td>\n      <td>...</td>\n      <td>1.18</td>\n      <td>184.0</td>\n      <td>0.02</td>\n      <td>0.01</td>\n      <td>0.00</td>\n      <td>33.01</td>\n      <td>0.00</td>\n      <td>0.27</td>\n      <td>0.00</td>\n      <td>1.0</td>\n    </tr>\n    <tr>\n      <th>1</th>\n      <td>A</td>\n      <td>PRE - 900 bonus</td>\n      <td>142</td>\n      <td>2G</td>\n      <td>6.32</td>\n      <td>0.0</td>\n      <td>7.33</td>\n      <td>7.00</td>\n      <td>50.09</td>\n      <td>6.49</td>\n      <td>...</td>\n      <td>184.00</td>\n      <td>184.0</td>\n      <td>0.00</td>\n      <td>0.00</td>\n      <td>0.99</td>\n      <td>7.31</td>\n      <td>0.00</td>\n      <td>0.86</td>\n      <td>0.14</td>\n      <td>2.0</td>\n    </tr>\n    <tr>\n      <th>2</th>\n      <td>A</td>\n      <td>PRE - TT 1500%</td>\n      <td>142</td>\n      <td>2G</td>\n      <td>3.13</td>\n      <td>0.0</td>\n      <td>7.67</td>\n      <td>5.00</td>\n      <td>42.72</td>\n      <td>3.71</td>\n      <td>...</td>\n      <td>184.00</td>\n      <td>184.0</td>\n      <td>0.00</td>\n      <td>0.00</td>\n      <td>0.00</td>\n      <td>3.23</td>\n      <td>0.00</td>\n      <td>0.97</td>\n      <td>0.00</td>\n      <td>3.0</td>\n    </tr>\n    <tr>\n      <th>3</th>\n      <td>A</td>\n      <td>PRE - offre 40</td>\n      <td>140</td>\n      <td>2G</td>\n      <td>4.55</td>\n      <td>0.0</td>\n      <td>17.67</td>\n      <td>17.67</td>\n      <td>80.43</td>\n      <td>80.43</td>\n      <td>...</td>\n      <td>184.00</td>\n      <td>184.0</td>\n      <td>0.21</td>\n      <td>0.00</td>\n      <td>0.00</td>\n      <td>4.55</td>\n      <td>0.00</td>\n      <td>1.00</td>\n      <td>0.00</td>\n      <td>4.0</td>\n    </tr>\n    <tr>\n      <th>4</th>\n      <td>A</td>\n      <td>PRE - TT 1500%</td>\n      <td>142</td>\n      <td>2G</td>\n      <td>0.00</td>\n      <td>0.0</td>\n      <td>1.33</td>\n      <td>0.00</td>\n      <td>3.10</td>\n      <td>0.00</td>\n      <td>...</td>\n      <td>184.00</td>\n      <td>184.0</td>\n      <td>0.00</td>\n      <td>0.00</td>\n      <td>0.53</td>\n      <td>2.03</td>\n      <td>0.74</td>\n      <td>0.00</td>\n      <td>0.26</td>\n      <td>5.0</td>\n    </tr>\n    <tr>\n      <th>5</th>\n      <td>A</td>\n      <td>PRE - TT 1500%</td>\n      <td>142</td>\n      <td>2G</td>\n      <td>10.59</td>\n      <td>0.0</td>\n      <td>8.67</td>\n      <td>8.67</td>\n      <td>203.96</td>\n      <td>12.35</td>\n      <td>...</td>\n      <td>184.00</td>\n      <td>184.0</td>\n      <td>0.00</td>\n      <td>0.00</td>\n      <td>0.00</td>\n      <td>10.59</td>\n      <td>0.00</td>\n      <td>1.00</td>\n      <td>0.00</td>\n      <td>6.0</td>\n    </tr>\n    <tr>\n      <th>6</th>\n      <td>A</td>\n      <td>PRE - Trankil TT</td>\n      <td>142</td>\n      <td>2G</td>\n      <td>4.51</td>\n      <td>0.0</td>\n      <td>20.67</td>\n      <td>19.33</td>\n      <td>95.57</td>\n      <td>89.02</td>\n      <td>...</td>\n      <td>184.00</td>\n      <td>184.0</td>\n      <td>0.00</td>\n      <td>0.00</td>\n      <td>0.00</td>\n      <td>4.99</td>\n      <td>0.00</td>\n      <td>0.90</td>\n      <td>0.00</td>\n      <td>7.0</td>\n    </tr>\n    <tr>\n      <th>7</th>\n      <td>A</td>\n      <td>PRE - Double</td>\n      <td>140</td>\n      <td>2G</td>\n      <td>5.07</td>\n      <td>0.0</td>\n      <td>10.67</td>\n      <td>10.67</td>\n      <td>36.22</td>\n      <td>17.39</td>\n      <td>...</td>\n      <td>184.00</td>\n      <td>184.0</td>\n      <td>111.62</td>\n      <td>49.83</td>\n      <td>0.00</td>\n      <td>5.85</td>\n      <td>0.13</td>\n      <td>0.87</td>\n      <td>0.00</td>\n      <td>8.0</td>\n    </tr>\n    <tr>\n      <th>8</th>\n      <td>A</td>\n      <td>PRE - TT 1500%</td>\n      <td>143</td>\n      <td>2G</td>\n      <td>12.94</td>\n      <td>0.1</td>\n      <td>13.33</td>\n      <td>6.67</td>\n      <td>905.15</td>\n      <td>16.29</td>\n      <td>...</td>\n      <td>184.00</td>\n      <td>184.0</td>\n      <td>1407.94</td>\n      <td>330.75</td>\n      <td>11.17</td>\n      <td>32.55</td>\n      <td>0.25</td>\n      <td>0.40</td>\n      <td>0.34</td>\n      <td>9.0</td>\n    </tr>\n    <tr>\n      <th>9</th>\n      <td>A</td>\n      <td>PRE - Double</td>\n      <td>141</td>\n      <td>2G</td>\n      <td>0.77</td>\n      <td>0.0</td>\n      <td>6.00</td>\n      <td>1.00</td>\n      <td>25.01</td>\n      <td>3.38</td>\n      <td>...</td>\n      <td>184.00</td>\n      <td>184.0</td>\n      <td>0.00</td>\n      <td>0.00</td>\n      <td>4.88</td>\n      <td>5.67</td>\n      <td>0.00</td>\n      <td>0.14</td>\n      <td>0.86</td>\n      <td>10.0</td>\n    </tr>\n  </tbody>\n</table>\n<p>10 rows × 64 columns</p>\n</div>"
     },
     "execution_count": 5,
     "metadata": {},
     "output_type": "execute_result"
    }
   ],
   "source": [
    "dataTelecom=pd.read_excel(pathDataTelecom)\n",
    "dataTelecom.head(10)"
   ],
   "metadata": {
    "collapsed": false,
    "ExecuteTime": {
     "start_time": "2023-08-24T08:36:21.113667Z",
     "end_time": "2023-08-24T08:37:12.589795Z"
    }
   }
  },
  {
   "cell_type": "code",
   "execution_count": 6,
   "outputs": [
    {
     "data": {
      "text/plain": "     STATUT  FREQ_USSD  revenu_cdr_c  DUREE_APPEL_TOT  MNT_RECH  \\\n0         A       1.18          8.94           666.64     33.67   \n1         A     184.00          7.31            50.09      7.33   \n2         A     184.00          3.23            42.72      3.67   \n3         A     184.00          4.55            80.43      4.33   \n4         A      17.96          0.53             3.10      2.67   \n...     ...        ...           ...              ...       ...   \n1995      A      15.00          2.90             7.30      3.67   \n1996      A     184.00          4.54            24.52      4.33   \n1997      A      22.56         59.62           435.24     66.67   \n1998      A     184.00          9.45            74.17      9.33   \n1999      A      11.24          2.45             7.33      8.67   \n\n      VOLUME_SESSION  MNT_FORFAIT_DATA  FREQ_ACT_OUT  \n0               0.02              0.00          0.03  \n1               0.00              0.00          0.30  \n2               0.00              0.00          0.60  \n3               0.21              0.00          0.60  \n4               0.00              1.50          2.65  \n...              ...               ...           ...  \n1995          135.62              0.72          2.14  \n1996            0.00              0.00          1.29  \n1997         2381.06              6.00          0.05  \n1998            0.00              0.00          0.26  \n1999          598.84              2.40          2.50  \n\n[2000 rows x 8 columns]",
      "text/html": "<div>\n<style scoped>\n    .dataframe tbody tr th:only-of-type {\n        vertical-align: middle;\n    }\n\n    .dataframe tbody tr th {\n        vertical-align: top;\n    }\n\n    .dataframe thead th {\n        text-align: right;\n    }\n</style>\n<table border=\"1\" class=\"dataframe\">\n  <thead>\n    <tr style=\"text-align: right;\">\n      <th></th>\n      <th>STATUT</th>\n      <th>FREQ_USSD</th>\n      <th>revenu_cdr_c</th>\n      <th>DUREE_APPEL_TOT</th>\n      <th>MNT_RECH</th>\n      <th>VOLUME_SESSION</th>\n      <th>MNT_FORFAIT_DATA</th>\n      <th>FREQ_ACT_OUT</th>\n    </tr>\n  </thead>\n  <tbody>\n    <tr>\n      <th>0</th>\n      <td>A</td>\n      <td>1.18</td>\n      <td>8.94</td>\n      <td>666.64</td>\n      <td>33.67</td>\n      <td>0.02</td>\n      <td>0.00</td>\n      <td>0.03</td>\n    </tr>\n    <tr>\n      <th>1</th>\n      <td>A</td>\n      <td>184.00</td>\n      <td>7.31</td>\n      <td>50.09</td>\n      <td>7.33</td>\n      <td>0.00</td>\n      <td>0.00</td>\n      <td>0.30</td>\n    </tr>\n    <tr>\n      <th>2</th>\n      <td>A</td>\n      <td>184.00</td>\n      <td>3.23</td>\n      <td>42.72</td>\n      <td>3.67</td>\n      <td>0.00</td>\n      <td>0.00</td>\n      <td>0.60</td>\n    </tr>\n    <tr>\n      <th>3</th>\n      <td>A</td>\n      <td>184.00</td>\n      <td>4.55</td>\n      <td>80.43</td>\n      <td>4.33</td>\n      <td>0.21</td>\n      <td>0.00</td>\n      <td>0.60</td>\n    </tr>\n    <tr>\n      <th>4</th>\n      <td>A</td>\n      <td>17.96</td>\n      <td>0.53</td>\n      <td>3.10</td>\n      <td>2.67</td>\n      <td>0.00</td>\n      <td>1.50</td>\n      <td>2.65</td>\n    </tr>\n    <tr>\n      <th>...</th>\n      <td>...</td>\n      <td>...</td>\n      <td>...</td>\n      <td>...</td>\n      <td>...</td>\n      <td>...</td>\n      <td>...</td>\n      <td>...</td>\n    </tr>\n    <tr>\n      <th>1995</th>\n      <td>A</td>\n      <td>15.00</td>\n      <td>2.90</td>\n      <td>7.30</td>\n      <td>3.67</td>\n      <td>135.62</td>\n      <td>0.72</td>\n      <td>2.14</td>\n    </tr>\n    <tr>\n      <th>1996</th>\n      <td>A</td>\n      <td>184.00</td>\n      <td>4.54</td>\n      <td>24.52</td>\n      <td>4.33</td>\n      <td>0.00</td>\n      <td>0.00</td>\n      <td>1.29</td>\n    </tr>\n    <tr>\n      <th>1997</th>\n      <td>A</td>\n      <td>22.56</td>\n      <td>59.62</td>\n      <td>435.24</td>\n      <td>66.67</td>\n      <td>2381.06</td>\n      <td>6.00</td>\n      <td>0.05</td>\n    </tr>\n    <tr>\n      <th>1998</th>\n      <td>A</td>\n      <td>184.00</td>\n      <td>9.45</td>\n      <td>74.17</td>\n      <td>9.33</td>\n      <td>0.00</td>\n      <td>0.00</td>\n      <td>0.26</td>\n    </tr>\n    <tr>\n      <th>1999</th>\n      <td>A</td>\n      <td>11.24</td>\n      <td>2.45</td>\n      <td>7.33</td>\n      <td>8.67</td>\n      <td>598.84</td>\n      <td>2.40</td>\n      <td>2.50</td>\n    </tr>\n  </tbody>\n</table>\n<p>2000 rows × 8 columns</p>\n</div>"
     },
     "execution_count": 6,
     "metadata": {},
     "output_type": "execute_result"
    }
   ],
   "source": [
    "# selection of the most important variables for each clustering\n",
    "selected_variables = [\n",
    "    'STATUT','FREQ_USSD', 'revenu_cdr_c','DUREE_APPEL_TOT','MNT_RECH','VOLUME_SESSION', 'MNT_FORFAIT_DATA','FREQ_ACT_OUT'\n",
    "]\n",
    "\n",
    "# Select the desired variables from the dataframe\n",
    "dataTelecomSelected = dataTelecom[selected_variables].copy()\n",
    "dataTelecomSelected.head(2000)"
   ],
   "metadata": {
    "collapsed": false,
    "ExecuteTime": {
     "start_time": "2023-08-24T08:37:12.589795Z",
     "end_time": "2023-08-24T08:37:12.661625Z"
    }
   }
  },
  {
   "cell_type": "code",
   "execution_count": 7,
   "outputs": [
    {
     "data": {
      "text/plain": "      STATUT  FREQ_USSD  revenu_cdr_c  DUREE_APPEL_TOT  MNT_RECH  \\\n38163      A     184.00          1.83            30.27      3.00   \n66899      S     184.00          0.97            15.55      0.00   \n75020      A     184.00          3.56            89.60      1.67   \n44352      A     184.00          4.98            36.55      5.67   \n8972       A       6.42         10.12           641.13     30.67   \n...      ...        ...           ...              ...       ...   \n40351      S     184.00          1.33            28.18      1.33   \n11010      A     184.00          1.60             9.04      2.33   \n20414      A     184.00          9.39            93.78      8.00   \n27374      A     184.00          5.39            46.50      5.33   \n2659       A      10.00          2.62           179.26     34.67   \n\n       VOLUME_SESSION  MNT_FORFAIT_DATA  FREQ_ACT_OUT  \n38163            0.00              0.00          0.70  \n66899            0.00              0.00          1.03  \n75020            0.00              0.00          0.78  \n44352            0.00              0.00          0.85  \n8972          3678.37             18.47          0.09  \n...               ...               ...           ...  \n40351            0.00              0.00          1.32  \n11010            0.00              0.00          2.57  \n20414            0.00              0.00          0.29  \n27374            0.00              0.00          0.57  \n2659         32846.84             32.02          0.33  \n\n[1000 rows x 8 columns]",
      "text/html": "<div>\n<style scoped>\n    .dataframe tbody tr th:only-of-type {\n        vertical-align: middle;\n    }\n\n    .dataframe tbody tr th {\n        vertical-align: top;\n    }\n\n    .dataframe thead th {\n        text-align: right;\n    }\n</style>\n<table border=\"1\" class=\"dataframe\">\n  <thead>\n    <tr style=\"text-align: right;\">\n      <th></th>\n      <th>STATUT</th>\n      <th>FREQ_USSD</th>\n      <th>revenu_cdr_c</th>\n      <th>DUREE_APPEL_TOT</th>\n      <th>MNT_RECH</th>\n      <th>VOLUME_SESSION</th>\n      <th>MNT_FORFAIT_DATA</th>\n      <th>FREQ_ACT_OUT</th>\n    </tr>\n  </thead>\n  <tbody>\n    <tr>\n      <th>38163</th>\n      <td>A</td>\n      <td>184.00</td>\n      <td>1.83</td>\n      <td>30.27</td>\n      <td>3.00</td>\n      <td>0.00</td>\n      <td>0.00</td>\n      <td>0.70</td>\n    </tr>\n    <tr>\n      <th>66899</th>\n      <td>S</td>\n      <td>184.00</td>\n      <td>0.97</td>\n      <td>15.55</td>\n      <td>0.00</td>\n      <td>0.00</td>\n      <td>0.00</td>\n      <td>1.03</td>\n    </tr>\n    <tr>\n      <th>75020</th>\n      <td>A</td>\n      <td>184.00</td>\n      <td>3.56</td>\n      <td>89.60</td>\n      <td>1.67</td>\n      <td>0.00</td>\n      <td>0.00</td>\n      <td>0.78</td>\n    </tr>\n    <tr>\n      <th>44352</th>\n      <td>A</td>\n      <td>184.00</td>\n      <td>4.98</td>\n      <td>36.55</td>\n      <td>5.67</td>\n      <td>0.00</td>\n      <td>0.00</td>\n      <td>0.85</td>\n    </tr>\n    <tr>\n      <th>8972</th>\n      <td>A</td>\n      <td>6.42</td>\n      <td>10.12</td>\n      <td>641.13</td>\n      <td>30.67</td>\n      <td>3678.37</td>\n      <td>18.47</td>\n      <td>0.09</td>\n    </tr>\n    <tr>\n      <th>...</th>\n      <td>...</td>\n      <td>...</td>\n      <td>...</td>\n      <td>...</td>\n      <td>...</td>\n      <td>...</td>\n      <td>...</td>\n      <td>...</td>\n    </tr>\n    <tr>\n      <th>40351</th>\n      <td>S</td>\n      <td>184.00</td>\n      <td>1.33</td>\n      <td>28.18</td>\n      <td>1.33</td>\n      <td>0.00</td>\n      <td>0.00</td>\n      <td>1.32</td>\n    </tr>\n    <tr>\n      <th>11010</th>\n      <td>A</td>\n      <td>184.00</td>\n      <td>1.60</td>\n      <td>9.04</td>\n      <td>2.33</td>\n      <td>0.00</td>\n      <td>0.00</td>\n      <td>2.57</td>\n    </tr>\n    <tr>\n      <th>20414</th>\n      <td>A</td>\n      <td>184.00</td>\n      <td>9.39</td>\n      <td>93.78</td>\n      <td>8.00</td>\n      <td>0.00</td>\n      <td>0.00</td>\n      <td>0.29</td>\n    </tr>\n    <tr>\n      <th>27374</th>\n      <td>A</td>\n      <td>184.00</td>\n      <td>5.39</td>\n      <td>46.50</td>\n      <td>5.33</td>\n      <td>0.00</td>\n      <td>0.00</td>\n      <td>0.57</td>\n    </tr>\n    <tr>\n      <th>2659</th>\n      <td>A</td>\n      <td>10.00</td>\n      <td>2.62</td>\n      <td>179.26</td>\n      <td>34.67</td>\n      <td>32846.84</td>\n      <td>32.02</td>\n      <td>0.33</td>\n    </tr>\n  </tbody>\n</table>\n<p>1000 rows × 8 columns</p>\n</div>"
     },
     "execution_count": 7,
     "metadata": {},
     "output_type": "execute_result"
    }
   ],
   "source": [
    "dataTelecomSelectedSample=dataTelecomSelected.sample(n=1000)\n",
    "dataTelecomSelectedSample.dropna()\n",
    "dataTelecomSelectedSample.head(1000)\n"
   ],
   "metadata": {
    "collapsed": false,
    "ExecuteTime": {
     "start_time": "2023-08-24T08:37:12.621820Z",
     "end_time": "2023-08-24T08:37:12.661625Z"
    }
   }
  },
  {
   "cell_type": "code",
   "execution_count": 8,
   "outputs": [],
   "source": [
    "#-----------------------------------------------------------------------------------------------------------------------------\n",
    "#-------------------------------------------------[ LogisticRegression ]------------------------------------------------------\n",
    "#-----------------------------------------------------------------------------------------------------------------------------"
   ],
   "metadata": {
    "collapsed": false,
    "ExecuteTime": {
     "start_time": "2023-08-24T08:37:12.645989Z",
     "end_time": "2023-08-24T08:37:12.708495Z"
    }
   }
  },
  {
   "cell_type": "code",
   "execution_count": 9,
   "outputs": [
    {
     "name": "stderr",
     "output_type": "stream",
     "text": [
      "S:\\TunisieTelecom\\TelecomPyton\\venv\\lib\\site-packages\\sklearn\\linear_model\\_logistic.py:460: ConvergenceWarning: lbfgs failed to converge (status=1):\n",
      "STOP: TOTAL NO. of ITERATIONS REACHED LIMIT.\n",
      "\n",
      "Increase the number of iterations (max_iter) or scale the data as shown in:\n",
      "    https://scikit-learn.org/stable/modules/preprocessing.html\n",
      "Please also refer to the documentation for alternative solver options:\n",
      "    https://scikit-learn.org/stable/modules/linear_model.html#logistic-regression\n",
      "  n_iter_i = _check_optimize_result(\n"
     ]
    },
    {
     "name": "stdout",
     "output_type": "stream",
     "text": [
      "Matrice de confusion:\n",
      " [[13189   590]\n",
      " [ 1204  3446]]\n",
      "\n",
      "Rapport de classification:\n",
      "               precision    recall  f1-score   support\n",
      "\n",
      "           A       0.92      0.96      0.94     13779\n",
      "           S       0.85      0.74      0.79      4650\n",
      "\n",
      "    accuracy                           0.90     18429\n",
      "   macro avg       0.89      0.85      0.86     18429\n",
      "weighted avg       0.90      0.90      0.90     18429\n",
      "\n"
     ]
    }
   ],
   "source": [
    "\n",
    "# Sélectionnez les caractéristiques (features) et la variable cible\n",
    "features = ['FREQ_USSD', 'revenu_cdr_c', 'DUREE_APPEL_TOT', 'MNT_RECH',\n",
    "            'VOLUME_SESSION', 'MNT_FORFAIT_DATA', 'FREQ_ACT_OUT']\n",
    "target = 'STATUT'\n",
    "\n",
    "# Séparez les données en caractéristiques (X) et variable cible (y)\n",
    "X = dataTelecomSelected[features]\n",
    "y = dataTelecomSelected[target]\n",
    "\n",
    "# Gérez les valeurs manquantes en utilisant SimpleImputer\n",
    "imputer = SimpleImputer(strategy='mean')\n",
    "X_imputed = imputer.fit_transform(X)\n",
    "\n",
    "# Divisez les données en ensembles d'entraînement et de test\n",
    "X_train, X_test, y_train, y_test = train_test_split(X_imputed, y, test_size=0.2, random_state=42)\n",
    "\n",
    "# Créez et ajustez le modèle de régression logistique\n",
    "model = LogisticRegression()\n",
    "model.fit(X_train, y_train)\n",
    "\n",
    "# Faites des prédictions sur l'ensemble de test\n",
    "y_pred = model.predict(X_test)\n",
    "\n",
    "# Affichez les résultats de la classification\n",
    "print(\"Matrice de confusion:\\n\", confusion_matrix(y_test, y_pred))\n",
    "print(\"\\nRapport de classification:\\n\", classification_report(y_test, y_pred))\n"
   ],
   "metadata": {
    "collapsed": false,
    "ExecuteTime": {
     "start_time": "2023-08-24T08:37:12.661625Z",
     "end_time": "2023-08-24T08:37:13.931497Z"
    }
   }
  },
  {
   "cell_type": "code",
   "execution_count": 10,
   "outputs": [
    {
     "name": "stdout",
     "output_type": "stream",
     "text": [
      "Predicted Statut : ['S']\n"
     ]
    }
   ],
   "source": [
    "new_data = pd.DataFrame({\n",
    "    'FREQ_USSD': [184.00],  # Remplacez par vos valeurs d'entrée\n",
    "    'revenu_cdr_c': [0.3],\n",
    "    'DUREE_APPEL_TOT': [7.82],\n",
    "    'MNT_RECH': [0.33],\n",
    "    'VOLUME_SESSION': [0],\n",
    "    'MNT_FORFAIT_DATA': [0],\n",
    "    'FREQ_ACT_OUT': [6.4]\n",
    "})\n",
    "\n",
    "# Gérez les valeurs manquantes dans les nouvelles données\n",
    "new_data_imputed = imputer.transform(new_data)\n",
    "\n",
    "# Faites des prédictions sur les nouvelles données\n",
    "predictions = model.predict(new_data_imputed)\n",
    "\n",
    "# Affichez les prédictions\n",
    "print(\"Predicted Statut :\", predictions)"
   ],
   "metadata": {
    "collapsed": false,
    "ExecuteTime": {
     "start_time": "2023-08-24T08:37:13.843950Z",
     "end_time": "2023-08-24T08:37:13.932472Z"
    }
   }
  },
  {
   "cell_type": "code",
   "execution_count": 10,
   "outputs": [],
   "source": [],
   "metadata": {
    "collapsed": false,
    "ExecuteTime": {
     "start_time": "2023-08-24T08:37:13.886948Z",
     "end_time": "2023-08-24T08:37:13.932472Z"
    }
   }
  }
 ],
 "metadata": {
  "kernelspec": {
   "display_name": "Python 3",
   "language": "python",
   "name": "python3"
  },
  "language_info": {
   "codemirror_mode": {
    "name": "ipython",
    "version": 2
   },
   "file_extension": ".py",
   "mimetype": "text/x-python",
   "name": "python",
   "nbconvert_exporter": "python",
   "pygments_lexer": "ipython2",
   "version": "2.7.6"
  }
 },
 "nbformat": 4,
 "nbformat_minor": 0
}
